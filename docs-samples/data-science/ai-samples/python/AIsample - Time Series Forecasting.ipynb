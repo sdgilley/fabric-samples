{
 "cells": [
  {
   "cell_type": "markdown",
   "id": "6d0ccd70-5caf-4327-9263-b3d0537ad882",
   "metadata": {},
   "source": [
    "# Create, evaluate, and score a time series forecasting model"
   ]
  },
  {
   "cell_type": "markdown",
   "id": "d5874689-4c05-4570-873e-927a1b86d56d",
   "metadata": {
    "nteract": {
     "transient": {
      "deleting": false
     }
    }
   },
   "source": [
    "## Introduction\n",
    "\n",
    "This notebook shows the Microsoft Fabric end-to-end data science workflow for a time series forecasting model. This scenario uses historic sales data to predict the total monthly sales of properties in New York City.\n",
    "\n",
    "Time series forecasting predicts future values, based on historical data. This is a common, important part of business operations. This notebook shows tools and methods that can apply to other forecasting tasks: weather, sales numbers, stock prices, capacity planning, etc. \n",
    "\n",
    "This notebook covers these topics:\n",
    "\n",
    "1. Install custom library resources\n",
    "2. Load the data\n",
    "3. Examine and process the data through exploratory data analysis\n",
    "4. Train a machine learning model with `Prophet` - an open source software package - and track experiments using MLflow and the Fabric Autologging feature\n",
    "5. Save the final machine learning model, and make predictions\n",
    "\n",
    "## Prerequisites\n",
    "- [Add a lakehouse](https://aka.ms/fabric/addlakehouse) to this notebook. You'll download data from a public blob, then store the data in the lakehouse."
   ]
  },
  {
   "cell_type": "markdown",
   "id": "8e6c0ce6-2fbe-4747-9318-a4368a6906be",
   "metadata": {
    "nteract": {
     "transient": {
      "deleting": false
     }
    }
   },
   "source": [
    "## Step 1: Install custom libraries\n"
   ]
  },
  {
   "cell_type": "markdown",
   "id": "03635408-a7ee-4847-92da-7a6798c140a7",
   "metadata": {
    "nteract": {
     "transient": {
      "deleting": false
     }
    }
   },
   "source": [
    "When you develop a machine learning model, or you handle ad-hoc data analysis, you may need to quickly install a custom library (e.g., `prophet` in this notebook) for the Apache Spark session. To do this, you have two choices. \n",
    "\n",
    "1. You can use the in-line installation capabilities (e.g., `%pip`, `%conda`, etc.) to quickly get started with new libraries. Note that this would only install the custom libraries in the current notebook, not in the workspace.\n",
    "\n",
    "```python\n",
    "# Use pip to install libraries\n",
    "%pip install <library name>\n",
    "\n",
    "# Use conda to install libraries\n",
    "%conda install <library name>\n",
    "```\n",
    "\n",
    "2. Alternatively, you can create a Fabric environment, install libraries from public sources or upload custom libraries to it, and then your workspace admin can attach the environment as the default for the workspace. All the libraries in the environment will then become available for use in any notebooks and Spark job definitions in the workspace. For more information on environments, see [create, configure, and use an environment in Microsoft Fabric](https://aka.ms/fabric/create-environment)."
   ]
  },
  {
   "cell_type": "markdown",
   "id": "490f3f26-0be5-4cef-a421-9e490b243fa0",
   "metadata": {
    "nteract": {
     "transient": {
      "deleting": false
     }
    }
   },
   "source": [
    "For this notebook, you'll use `%pip install` to install the `prophet` library. Note that the PySpark kernel will restart after `%pip install`. This means that you must install the library before you run any other cells."
   ]
  },
  {
   "cell_type": "code",
   "execution_count": null,
   "id": "75603418-0984-4cdc-b8db-9e1d77baa21f",
   "metadata": {
    "jupyter": {
     "outputs_hidden": false,
     "source_hidden": false
    },
    "nteract": {
     "transient": {
      "deleting": false
     }
    }
   },
   "outputs": [],
   "source": [
    "# Use pip to install Prophet\n",
    "%pip install prophet"
   ]
  },
  {
   "cell_type": "markdown",
   "id": "562d8279-923b-4e58-970a-602fe671739e",
   "metadata": {},
   "source": [
    "## Step 2: Load the data"
   ]
  },
  {
   "cell_type": "markdown",
   "id": "873d10eb-aee9-452d-bd2b-f7b2e8b5395d",
   "metadata": {
    "nteract": {
     "transient": {
      "deleting": false
     }
    }
   },
   "source": [
    "#### Dataset\n",
    "\n",
    "This notebook uses the NYC Property Sales data dataset. It covers data from 2003 to 2015, published by the NYC Department of Finance on the [NYC Open Data Portal](https://opendata.cityofnewyork.us/). \n",
    "\n",
    "The dataset includes a record of every building sale in the New York City property market, within a thirteen year period. Refer to the [Glossary of Terms for Property Sales Files](https://www1.nyc.gov/assets/finance/downloads/pdf/07pdf/glossary_rsf071607.pdf) for a definition of the columns in the dataset.\n",
    "\n",
    "|borough|neighborhood|building_class_category|tax_class|block|lot|eastment|building_class_at_present|address|apartment_number|zip_code|residential_units|commercial_units|total_units|land_square_feet|gross_square_feet|year_built|tax_class_at_time_of_sale|building_class_at_time_of_sale|sale_price|sale_date|\n",
    "|----|----|----|----|----|----|----|----|----|----|----|----|----|----|----|----|----|----|----|----|----|\n",
    "|Manhattan|ALPHABET CITY|07  RENTALS - WALKUP APARTMENTS|0.0|384.0|17.0||C4|225 EAST 2ND   STREET||10009.0|10.0|0.0|10.0|2145.0|6670.0|1900.0|2.0|C4|275000.0|2007-06-19|\n",
    "|Manhattan|ALPHABET CITY|07  RENTALS - WALKUP APARTMENTS|2.0|405.0|12.0||C7|508 EAST 12TH   STREET||10009.0|28.0|2.0|30.0|3872.0|15428.0|1930.0|2.0|C7|7794005.0|2007-05-21|\n",
    "\n",
    "The goal is to build a model that forecasts the monthly total sales, based on historical data. For this, you'll use [Prophet](https://facebook.github.io/prophet/), an open source forecasting library developed by Facebook. Prophet is based on an additive model, where non-linear trends are fit with daily, weekly, and yearly seasonality, and holiday effects. Prophet works best on time series datasets that have strong seasonal effects, and several seasons of historical data. Additionally, Prophet robustly handles missing data, and data outliers.\n",
    "\n",
    "Prophet uses a decomposable time series model, consisting of three components:\n",
    "- **trend**: Prophet assumes a piece-wise constant rate of growth, with automatic change point selection\n",
    "- **seasonality**: By default, Prophet uses Fourier Series to fit weekly and yearly seasonality\n",
    "- **holidays**: Prophet requires all past and future occurrences of holidays. If a holiday doesn't repeat in the future, Prophet will not include it in the forecast.\n",
    "\n",
    "This notebook aggregates the data on a monthly basis, so it ignores the holidays.\n",
    "\n",
    "Read [the official paper](https://peerj.com/preprints/3190/) for more information about the Prophet modeling techniques."
   ]
  },
  {
   "cell_type": "markdown",
   "id": "419c45bf-e751-4470-8433-b235051ec33e",
   "metadata": {},
   "source": [
    "#### Download the dataset, and upload to a lakehouse\n",
    "\n",
    "The data source consists of fifteen `.csv` files. These files contain property sales records from five boroughs in New York, between 2003 and 2015. For convenience, the `nyc_property_sales.tar` file holds all of these `.csv` files, compressing them into one file. A publicly-available blob storage hosts this `.tar` file.\n",
    "\n",
    "\n",
    "> [!TIP]\n",
    "> With the parameters shown in this code cell, you can easily apply this notebook to different datasets.\n"
   ]
  },
  {
   "cell_type": "code",
   "execution_count": null,
   "id": "7066c1cf-28a7-49d7-aebd-caf0be555f9a",
   "metadata": {},
   "outputs": [],
   "source": [
    "URL = \"https://synapseaisolutionsa.blob.core.windows.net/public/NYC_Property_Sales_Dataset/\"\n",
    "TAR_FILE_NAME = \"nyc_property_sales.tar\"\n",
    "DATA_FOLDER = \"Files/NYC_Property_Sales_Dataset\"\n",
    "TAR_FILE_PATH = f\"/lakehouse/default/{DATA_FOLDER}/tar/\"\n",
    "CSV_FILE_PATH = f\"/lakehouse/default/{DATA_FOLDER}/csv/\"\n",
    "\n",
    "EXPERIMENT_NAME = \"aisample-timeseries\" # MLflow experiment name"
   ]
  },
  {
   "cell_type": "markdown",
   "id": "2b75e12d-5220-4d56-a035-c0648b12d67d",
   "metadata": {
    "nteract": {
     "transient": {
      "deleting": false
     }
    }
   },
   "source": [
    "This code downloads a publicly-available version of the dataset, and then stores that dataset in a Fabric Lakehouse.\n",
    "\n",
    "> [!IMPORTANT]\n",
    "> **Make sure you [add a lakehouse](https://aka.ms/fabric/addlakehouse) to the notebook before running it. Failure to do so will result in an error.**"
   ]
  },
  {
   "cell_type": "code",
   "execution_count": null,
   "id": "a68eecb2-5f1b-4a94-a11a-3256c3ab0eb1",
   "metadata": {
    "jupyter": {
     "outputs_hidden": false
    }
   },
   "outputs": [],
   "source": [
    "import os\n",
    "\n",
    "if not os.path.exists(\"/lakehouse/default\"):\n",
    "    # Add a lakehouse if the notebook has no default lakehouse\n",
    "    # A new notebook will not link to any lakehouse by default\n",
    "    raise FileNotFoundError(\n",
    "        \"Default lakehouse not found, please add a lakehouse for the notebook.\"\n",
    "    )\n",
    "else:\n",
    "    # Verify whether or not the required files are already in the lakehouse, and if not, download and unzip\n",
    "    if not os.path.exists(f\"{TAR_FILE_PATH}{TAR_FILE_NAME}\"):\n",
    "        os.makedirs(TAR_FILE_PATH, exist_ok=True)\n",
    "        os.system(f\"wget {URL}{TAR_FILE_NAME} -O {TAR_FILE_PATH}{TAR_FILE_NAME}\")\n",
    "\n",
    "    os.makedirs(CSV_FILE_PATH, exist_ok=True)\n",
    "    os.system(f\"tar -zxvf {TAR_FILE_PATH}{TAR_FILE_NAME} -C {CSV_FILE_PATH}\")"
   ]
  },
  {
   "cell_type": "markdown",
   "id": "6836cc30-094f-486f-8b8e-1f814b2a6646",
   "metadata": {
    "nteract": {
     "transient": {
      "deleting": false
     }
    }
   },
   "source": [
    "Start recording the run-time of this notebook."
   ]
  },
  {
   "cell_type": "code",
   "execution_count": null,
   "id": "9ab36c0d-a1cf-44ec-9271-7a99f641d2c4",
   "metadata": {
    "jupyter": {
     "outputs_hidden": false,
     "source_hidden": false
    },
    "nteract": {
     "transient": {
      "deleting": false
     }
    }
   },
   "outputs": [],
   "source": [
    "# Record the notebook running time\n",
    "import time\n",
    "\n",
    "ts = time.time()"
   ]
  },
  {
   "cell_type": "markdown",
   "id": "5f218146-d789-4a9d-a52d-3c55ac037ede",
   "metadata": {
    "nteract": {
     "transient": {
      "deleting": false
     }
    }
   },
   "source": [
    "#### Set up the MLflow experiment tracking\n",
    "\n",
    "To extend the MLflow logging capabilities, autologging automatically captures the values of input parameters and output metrics of a machine learning model during its training. This information is then logged to the workspace, where the MLflow APIs or the corresponding experiment in the workspace can access and visualize it. Visit [this resource](https://aka.ms/fabric-autologging) for more information about autologging."
   ]
  },
  {
   "cell_type": "code",
   "execution_count": null,
   "id": "53a15ee5-c713-482d-aa4a-92275e2ad7e1",
   "metadata": {},
   "outputs": [],
   "source": [
    "# Set up the MLflow experiment\n",
    "import mlflow\n",
    "\n",
    "mlflow.set_experiment(EXPERIMENT_NAME)\n",
    "mlflow.autolog(disable=True)  # Disable MLflow autologging"
   ]
  },
  {
   "cell_type": "markdown",
   "id": "fe463ecb-74ad-419b-ae41-bf2408c7fba4",
   "metadata": {
    "nteract": {
     "transient": {
      "deleting": false
     }
    }
   },
   "source": [
    "> [!NOTE]\n",
    "> If you want to disable Microsoft Fabric autologging in a notebook session, call `mlflow.autolog()` and set `disable=True`."
   ]
  },
  {
   "cell_type": "markdown",
   "id": "29f41955-8c1e-4b6a-ad8d-2774b186cf1a",
   "metadata": {},
   "source": [
    "#### Read raw date data from the lakehouse"
   ]
  },
  {
   "cell_type": "code",
   "execution_count": null,
   "id": "66fd6ef6-cd8f-4c4c-b14d-7d0ef7bb86d7",
   "metadata": {},
   "outputs": [],
   "source": [
    "df = (\n",
    "    spark.read.format(\"csv\")\n",
    "    .option(\"header\", \"true\")\n",
    "    .load(\"Files/NYC_Property_Sales_Dataset/csv\")\n",
    ")"
   ]
  },
  {
   "cell_type": "markdown",
   "id": "e698a7da-2c86-43f5-a252-e61412e1f82a",
   "metadata": {},
   "source": [
    "## Step 3: Begin exploratory data analysis"
   ]
  },
  {
   "cell_type": "markdown",
   "id": "0cb5c584",
   "metadata": {},
   "source": [
    "To review the dataset, you could manually examine a subset of data to gain a better understanding of it. You can use the `display` function to print the DataFrame. You can also show the Chart views, to easily visualize subsets of the dataset."
   ]
  },
  {
   "cell_type": "code",
   "execution_count": null,
   "id": "25b23f09",
   "metadata": {},
   "outputs": [],
   "source": [
    "display(df)"
   ]
  },
  {
   "cell_type": "markdown",
   "id": "2d17a954-6cca-4fbf-a7df-061a1b1abfaa",
   "metadata": {
    "nteract": {
     "transient": {
      "deleting": false
     }
    }
   },
   "source": [
    "A manual review of the dataset leads to some early observations:\n",
    "\n",
    "- Instances of $0.00 sales prices. According to the [Glossary of Terms](https://www.nyc.gov/assets/finance/downloads/pdf/07pdf/glossary_rsf071607.pdf), this implies a transfer of ownership with no cash consideration. In other words, no cash flowed in the transaction. You should remove sales with $0.00 `sales_price` values from the dataset.\n",
    "\n",
    "- The dataset covers different building classes. However, this notebook will only focus on residential buildings which, according to the [Glossary of Terms](https://www.nyc.gov/assets/finance/downloads/pdf/07pdf/glossary_rsf071607.pdf), are marked as type \"A\". You should filter the dataset to include only residential buildings. To do this, include either the `building_class_at_time_of_sale` or the `building_class_at_present` columns. You must only include the `building_class_at_time_of_sale` data.\n",
    "\n",
    "- The dataset includes instances where `total_units` values equal 0, or `gross_square_feet` values equal 0. You should remove all the instances where `total_units` or `gross_square_units` values equal 0.\n",
    "\n",
    "- Some columns - for example, `apartment_number`, `tax_class`, `build_class_at_present`, etc. - have missing or NULL values. Assume that the missing data involves clerical errors, or non-existent data. The analysis does not depend on these missing values, so you can ignore them.\n",
    "\n",
    "- The `sale_price` column is stored as a string, with a prepended \"$\" character. To proceed with the analysis, represent this column as a number. You should cast the `sale_price` column as integer."
   ]
  },
  {
   "cell_type": "markdown",
   "id": "a9642b29-c645-4b84-b91c-ce78a535c889",
   "metadata": {},
   "source": [
    "#### Type conversion and filtering\n",
    "To resolve some of the identified issues, import the required libraries."
   ]
  },
  {
   "cell_type": "code",
   "execution_count": null,
   "id": "c37488a0-354c-4801-a5d9-e571f1192f5f",
   "metadata": {},
   "outputs": [],
   "source": [
    "# Import libraries\n",
    "import pyspark.sql.functions as F\n",
    "from pyspark.sql.types import *"
   ]
  },
  {
   "cell_type": "markdown",
   "id": "b110f07b-4f57-433e-a458-9eb01ac96808",
   "metadata": {
    "nteract": {
     "transient": {
      "deleting": false
     }
    }
   },
   "source": [
    "**Cast the sales data from string to integer**\n",
    "\n",
    "Use regular expressions to separate the numeric portion of the string from the dollar sign (for example, in the string \"\\$300,000\", split \"$\" and \"300,000\"), and then cast the numeric portion as an integer.\n",
    "\n",
    "**Next, filter the data to only include instances that meet all of these conditions:**\n",
    "\n",
    "1. The `sales_price` is greater than 0\n",
    "2. The `total_units` is greater than 0\n",
    "3. The `gross_square_feet` is greater than 0\n",
    "4. The `building_class_at_time_of_sale` is of type A"
   ]
  },
  {
   "cell_type": "code",
   "execution_count": null,
   "id": "faba0051-347a-4107-a879-624850c886f4",
   "metadata": {},
   "outputs": [],
   "source": [
    "df = df.withColumn(\n",
    "    \"sale_price\", F.regexp_replace(\"sale_price\", \"[$,]\", \"\").cast(IntegerType())\n",
    ")\n",
    "df = df.select(\"*\").where(\n",
    "    'sale_price > 0 and total_units > 0 and gross_square_feet > 0 and building_class_at_time_of_sale like \"A%\"'\n",
    ")"
   ]
  },
  {
   "cell_type": "markdown",
   "id": "47c89585-041f-405e-9db6-58416896da62",
   "metadata": {
    "nteract": {
     "transient": {
      "deleting": false
     }
    }
   },
   "source": [
    "#### Aggregation on monthly basis\n",
    "\n",
    "The data resource tracks property sales on a daily basis, but this approach is too granular for this notebook. Instead, aggregate the data on a monthly basis.\n",
    "\n",
    "First, change the date values to show only month and year data. Note that the date values would still include the year data. You could still distinguish between, for example, December 2005 and December 2006.\n",
    "\n",
    "Additionally, only keep the columns relevant to the analysis. These include `sales_price`, `total_units`, `gross_square_feet` and `sales_date`. You must also rename `sales_date` to `month`."
   ]
  },
  {
   "cell_type": "code",
   "execution_count": null,
   "id": "f3d8d88f-9cb9-4840-90a5-7839f783a442",
   "metadata": {
    "jupyter": {
     "outputs_hidden": true
    }
   },
   "outputs": [],
   "source": [
    "monthly_sale_df = df.select(\n",
    "    \"sale_price\",\n",
    "    \"total_units\",\n",
    "    \"gross_square_feet\",\n",
    "    F.date_format(\"sale_date\", \"yyyy-MM\").alias(\"month\"),\n",
    ")\n",
    "display(monthly_sale_df)"
   ]
  },
  {
   "cell_type": "markdown",
   "id": "f146d55a-191a-452c-85f8-8ce762f9378d",
   "metadata": {
    "nteract": {
     "transient": {
      "deleting": false
     }
    }
   },
   "source": [
    "Aggregate the `sale_price`, `total_units` and `gross_square_feet` values by month. Then, group the data by `month`, and sum all the values within each group. "
   ]
  },
  {
   "cell_type": "code",
   "execution_count": null,
   "id": "f2f74033-14b9-4767-aff0-756962a5deb7",
   "metadata": {
    "jupyter": {
     "outputs_hidden": true
    }
   },
   "outputs": [],
   "source": [
    "summary_df = (\n",
    "    monthly_sale_df.groupBy(\"month\")\n",
    "    .agg(\n",
    "        F.sum(\"sale_price\").alias(\"total_sales\"),\n",
    "        F.sum(\"total_units\").alias(\"units\"),\n",
    "        F.sum(\"gross_square_feet\").alias(\"square_feet\"),\n",
    "    )\n",
    "    .orderBy(\"month\")\n",
    ")\n",
    "\n",
    "display(summary_df)"
   ]
  },
  {
   "cell_type": "markdown",
   "id": "8f53e3b7-1a58-4507-9f19-a40e2b7f69d8",
   "metadata": {
    "nteract": {
     "transient": {
      "deleting": false
     }
    }
   },
   "source": [
    "#### Pyspark to Pandas conversion\n",
    "\n",
    "Pyspark DataFrames handle large datasets really well. However, due to data aggregation, the DataFrame size is much smaller. This suggests that you can now use pandas DataFrames.\n",
    "\n",
    "This code casts the dataset from a pyspark DataFrame to a pandas DataFrame."
   ]
  },
  {
   "cell_type": "code",
   "execution_count": null,
   "id": "3ebd8348-b932-4127-bb3c-3df5f9e0bf8b",
   "metadata": {
    "jupyter": {
     "outputs_hidden": true
    }
   },
   "outputs": [],
   "source": [
    "import pandas as pd\n",
    "\n",
    "df_pandas = summary_df.toPandas()\n",
    "display(df_pandas)"
   ]
  },
  {
   "cell_type": "markdown",
   "id": "76e34cb2-8116-4c48-accb-4583c9ce5db9",
   "metadata": {},
   "source": [
    "#### Visualization\n",
    "\n",
    "You can examine the property trade trend of New York City to better understand the data. This leads to insights into potential patterns and seasonality trends. Learn more about Microsoft Fabric data visualization at [this](https://aka.ms/fabric/visualization) resource."
   ]
  },
  {
   "cell_type": "code",
   "execution_count": null,
   "id": "d7936927-27e4-4b7a-9b79-21b489d3ffe1",
   "metadata": {
    "jupyter": {
     "outputs_hidden": true
    }
   },
   "outputs": [],
   "source": [
    "import matplotlib.pyplot as plt\n",
    "import seaborn as sns\n",
    "import numpy as np\n",
    "\n",
    "f, (ax1, ax2) = plt.subplots(2, 1, figsize=(35, 10))\n",
    "plt.sca(ax1)\n",
    "plt.xticks(np.arange(0, 15 * 12, step=12))\n",
    "plt.ticklabel_format(style=\"plain\", axis=\"y\")\n",
    "sns.lineplot(x=\"month\", y=\"total_sales\", data=df_pandas)\n",
    "plt.ylabel(\"Total Sales\")\n",
    "plt.xlabel(\"Time\")\n",
    "plt.title(\"Total Property Sales by Month\")\n",
    "\n",
    "plt.sca(ax2)\n",
    "plt.xticks(np.arange(0, 15 * 12, step=12))\n",
    "plt.ticklabel_format(style=\"plain\", axis=\"y\")\n",
    "sns.lineplot(x=\"month\", y=\"square_feet\", data=df_pandas)\n",
    "plt.ylabel(\"Total Square Feet\")\n",
    "plt.xlabel(\"Time\")\n",
    "plt.title(\"Total Property Square Feet Sold by Month\")\n",
    "plt.show()"
   ]
  },
  {
   "cell_type": "markdown",
   "id": "fc7e4eca-cb21-4f65-a2cc-4259b67fdc00",
   "metadata": {
    "nteract": {
     "transient": {
      "deleting": false
     }
    }
   },
   "source": [
    "#### Summary of observations from the exploratory data analysis\n",
    "\n",
    "- The data shows a clear recurring pattern on a yearly cadence; this means the data has a **yearly seasonality**\n",
    "- The summer months seem to have higher sales volumes compared to winter months\n",
    "- In a comparison of years with high sales and years with low sales, the revenue difference between high sales months and low sales months in high sales years exceeds - in absolute terms - the revenue difference between high sales months and low sales months in low sale years. \n",
    "\n",
    "For example, in 2004, the revenue difference between the highest sales month and the lowest sales month is about\n",
    "\n",
    "<br>\n",
    "\n",
    "        $900,000,000 - $500,000,000 = $400,000,000\n",
    "\n",
    "  and for 2011, that revenue difference calculation is about\n",
    "\n",
    "<br>\n",
    "\n",
    "        $400,000,000 - $300,000,000 = $100,000,000\n",
    "\n",
    "  This becomes important later, when you must decide between **multiplicative** and **additive** seasonality effects."
   ]
  },
  {
   "cell_type": "markdown",
   "id": "d9cb1102-f911-4a1b-b006-6dff865b4e4a",
   "metadata": {},
   "source": [
    "## Step 4: Model training and tracking"
   ]
  },
  {
   "cell_type": "markdown",
   "id": "bb9b97cc-b49b-4e9e-bd81-62f85b7a2ad4",
   "metadata": {},
   "source": [
    "### Model fitting\n",
    "\n",
    "[Prophet](https://facebook.github.io/prophet/) input is always a two-column DataFrame. One input column is a time column named `ds`, and one input column is a value column named `y`. The time column should have a date, time, or datetime data format (e.g., `YYYY_MM`). The dataset here meets that condition. The value column must be a numerical data format.\n",
    "\n",
    "For the model fitting, you must only rename the time column to `ds` and value column to `y`, and pass the data to Prophet. Read the [Prophet Python API documentation](https://facebook.github.io/prophet/docs/quick_start.html#python-api) for more information."
   ]
  },
  {
   "cell_type": "code",
   "execution_count": null,
   "id": "8559b5a8-fd42-4c28-8921-fc0f43d57c4d",
   "metadata": {},
   "outputs": [],
   "source": [
    "df_pandas[\"ds\"] = pd.to_datetime(df_pandas[\"month\"])\n",
    "df_pandas[\"y\"] = df_pandas[\"total_sales\"]"
   ]
  },
  {
   "cell_type": "markdown",
   "id": "e9d99fc8-926f-4362-8747-8ac4fe54e06c",
   "metadata": {},
   "source": [
    "Prophet follows the [scikit-learn](https://scikit-learn.org/) convention. First, create a new instance of Prophet, set certain parameters (e.g.,`seasonality_mode`), and then fit that instance to the dataset.\n",
    "\n",
    "- Although a constant additive factor is the default seasonality effect for Prophet, you should use the **'multiplicative' seasonality** for the seasonality effect parameter. The analysis in the previous section showed that because of changes in seasonality amplitude, a simple additive seasonality won't fit the data well at all.\n",
    "\n",
    "- Set the **weekly_seasonality** parameter to **off**, because the data was aggregated by month. As a result, weekly data is not available.\n",
    "\n",
    "- Use **Markov Chain Monte Carlo (MCMC)** methods to capture the seasonality uncertainty estimates. By default, Prophet can provide uncertainty estimates on the trend and observation noise, but not for the seasonality. MCMC require more processing time, but they allow the algorithm to provide uncertainty estimates on the seasonality, as well as the trend and observation noise. Read the [Prophet Uncertainty Intervals documentation](https://facebook.github.io/prophet/docs/uncertainty_intervals.html) for more information.\n",
    "\n",
    "- Tune the automatic change point detection sensitivity through the **changepoint_prior_scale** parameter. The Prophet algorithm automatically tries to find instances in the data where the trajectories abruptly change. It can become difficult to find the correct value. To resolve this, you can try different values and then select the model with the best performance. Read the [Prophet Trend Changepoints documentation](https://facebook.github.io/prophet/docs/trend_changepoints.html) for more information."
   ]
  },
  {
   "cell_type": "code",
   "execution_count": null,
   "id": "021119e3-4e97-4de8-8246-628613637785",
   "metadata": {
    "jupyter": {
     "outputs_hidden": false,
     "source_hidden": false
    },
    "nteract": {
     "transient": {
      "deleting": false
     }
    }
   },
   "outputs": [],
   "source": [
    "from prophet import Prophet\n",
    "\n",
    "def fit_model(dataframe, seasonality_mode, weekly_seasonality, chpt_prior, mcmc_samples):\n",
    "    m = Prophet(\n",
    "        seasonality_mode=seasonality_mode,\n",
    "        weekly_seasonality=weekly_seasonality,\n",
    "        changepoint_prior_scale=chpt_prior,\n",
    "        mcmc_samples=mcmc_samples,\n",
    "    )\n",
    "    m.fit(dataframe)\n",
    "    return m"
   ]
  },
  {
   "cell_type": "markdown",
   "id": "9520f562-91d1-45c9-b4b7-c2dd3f6fee51",
   "metadata": {
    "nteract": {
     "transient": {
      "deleting": false
     }
    }
   },
   "source": [
    "### Cross validation\n",
    "\n",
    "Prophet has a built-in cross-validation tool. This tool can estimate the forecasting error, and find the model with the best performance.\n",
    "\n",
    "The cross-validation technique can validate model efficiency. This technique trains the model on a subset of the dataset, and runs tests on a previously-unseen subset of the dataset. This technique can check how well a statistical model generalizes to an independent dataset.\n",
    "\n",
    "For cross-validation, reserve a particular sample of the dataset, which was not part of the training dataset. Then, test the trained model on that sample, prior to deployment. However, this approach does not work for time-series data, because if the model has seen data from the months of January 2005 and March 2005, and you try to predict for the month February 2005, the model can essentially *cheat*, because it could see where the data trend leads. In real applications, the aim is to forecast for the **_future_**, as the unseen regions.\n",
    "\n",
    "To handle this, and make the test reliable, split the dataset based on the dates. Use the dataset up to a certain date (e.g., the first eleven years of data) for training, and then use the remaining unseen data for prediction.\n",
    "\n",
    "In this scenario, start with eleven years of training data, and then make monthly predictions using a one-year horizon. Specifically, the training data contains everything from 2003 through 2013. Then, the first run will handle predictions for January 2014 through January 2015. The next run handles predictions for February 2014 through February 2015, and so on.\n",
    "\n",
    "Repeat this process for each of the three trained models, to see which model performs the best. Then, compare these predictions with real-world values, to establish the prediction quality of the best model."
   ]
  },
  {
   "cell_type": "code",
   "execution_count": null,
   "id": "13448586-f244-4b55-bde7-188f4146ca9f",
   "metadata": {
    "jupyter": {
     "outputs_hidden": false,
     "source_hidden": false
    },
    "nteract": {
     "transient": {
      "deleting": false
     }
    }
   },
   "outputs": [],
   "source": [
    "from prophet.diagnostics import cross_validation\n",
    "from prophet.diagnostics import performance_metrics\n",
    "\n",
    "def evaluation(m):\n",
    "    df_cv = cross_validation(m, initial=\"4017 days\", period=\"30 days\", horizon=\"365 days\")\n",
    "    df_p = performance_metrics(df_cv, monthly=True)\n",
    "    future = m.make_future_dataframe(periods=12, freq=\"M\")\n",
    "    forecast = m.predict(future)\n",
    "    return df_p, future, forecast"
   ]
  },
  {
   "cell_type": "markdown",
   "id": "059ab8d8-11d2-436a-b5b0-b074bd6989dd",
   "metadata": {
    "nteract": {
     "transient": {
      "deleting": false
     }
    }
   },
   "source": [
    "### Log model with MLflow\n",
    "\n",
    "Log the models, to keep track of their parameters, and save the models for later use. All relevant model information is logged in the workspace, under the experiment name. Note that the model, parameters, and metrics, along with MLflow autologging items, will be saved in one MLflow run."
   ]
  },
  {
   "cell_type": "code",
   "execution_count": null,
   "id": "101377cf-7b37-4cd8-9faa-3b974df0565d",
   "metadata": {
    "jupyter": {
     "outputs_hidden": false,
     "source_hidden": false
    },
    "nteract": {
     "transient": {
      "deleting": false
     }
    }
   },
   "outputs": [],
   "source": [
    "# Setup MLflow\n",
    "from mlflow.models.signature import infer_signature"
   ]
  },
  {
   "cell_type": "markdown",
   "id": "88891275-d48d-42dd-8cdf-8386dd4f0f43",
   "metadata": {
    "nteract": {
     "transient": {
      "deleting": false
     }
    }
   },
   "source": [
    "### Conduct experiments\n",
    "\n",
    "A machine learning experiment serves as the primary unit of organization and control, for all related machine learning runs. A run corresponds to a single execution of model code. Machine learning experiment tracking refers to the management of all the different experiments and their components. This includes parameters, metrics, models and other artifacts, and it helps organize the the required components of a specific machine learning experiment. Machine learning experiment tracking also allows for the easy duplication of past results with saved experiments. Learn more about [machine learning experiments in Microsoft Fabric](https://aka.ms/synapse-experiment). Once you determine the steps you intend to include (e.g., fitting and evaluating the Prophet model in this notebook), you can run the experiment."
   ]
  },
  {
   "cell_type": "code",
   "execution_count": null,
   "id": "b343628f-e103-4db6-9799-29e5205ec979",
   "metadata": {
    "jupyter": {
     "outputs_hidden": true
    }
   },
   "outputs": [],
   "source": [
    "model_name = f\"{EXPERIMENT_NAME}-prophet\"\n",
    "\n",
    "models = []\n",
    "df_metrics = []\n",
    "forecasts = []\n",
    "seasonality_mode = \"multiplicative\"\n",
    "weekly_seasonality = False\n",
    "changepoint_priors = [0.01, 0.05, 0.1]\n",
    "mcmc_samples = 100\n",
    "\n",
    "for chpt_prior in changepoint_priors:\n",
    "    with mlflow.start_run(run_name=f\"prophet_changepoint_{chpt_prior}\"):\n",
    "        # init model and fit\n",
    "        m = fit_model(df_pandas, seasonality_mode, weekly_seasonality, chpt_prior, mcmc_samples)\n",
    "        models.append(m)\n",
    "        # Validation\n",
    "        df_p, future, forecast = evaluation(m)\n",
    "        df_metrics.append(df_p)\n",
    "        forecasts.append(forecast)\n",
    "        # Log model and parameters with MLflow\n",
    "        mlflow.prophet.log_model(\n",
    "            m,\n",
    "            model_name,\n",
    "            registered_model_name=model_name,\n",
    "            signature=infer_signature(future, forecast),\n",
    "        )\n",
    "        mlflow.log_params(\n",
    "            {\n",
    "                \"seasonality_mode\": seasonality_mode,\n",
    "                \"mcmc_samples\": mcmc_samples,\n",
    "                \"weekly_seasonality\": weekly_seasonality,\n",
    "                \"changepoint_prior\": chpt_prior,\n",
    "            }\n",
    "        )\n",
    "        metrics = df_p.mean().to_dict()\n",
    "        metrics.pop(\"horizon\")\n",
    "        mlflow.log_metrics(metrics)"
   ]
  },
  {
   "cell_type": "markdown",
   "id": "b3251f82",
   "metadata": {},
   "source": [
    "<img src=\"https://synapseaisolutionsa.blob.core.windows.net/public/NYC_Property_Sales_Dataset/Timeseries-experiment.png\"  width=\"70%\" height=\"30%\">"
   ]
  },
  {
   "cell_type": "markdown",
   "id": "74ecb677-7f10-41f7-b9b0-26044154fb1d",
   "metadata": {},
   "source": [
    "### Visualize a model with Prophet\n",
    "\n",
    "Prophet has built-in visualization functions which can show the model fitting results. \n",
    "\n",
    "The black dots denote the data points that are used to train the model. The blue line is the prediction, and the light blue area shows the uncertainty intervals. Note that you have built three models with different `changepoint_prior_scale` values. The predictions of these three models are shown below."
   ]
  },
  {
   "cell_type": "code",
   "execution_count": null,
   "id": "502f1021-a69e-4610-b4dd-2925c0e56037",
   "metadata": {
    "jupyter": {
     "outputs_hidden": false,
     "source_hidden": false
    },
    "nteract": {
     "transient": {
      "deleting": false
     }
    }
   },
   "outputs": [],
   "source": [
    "for idx, pack in enumerate(zip(models, forecasts)):\n",
    "    m, forecast = pack\n",
    "    fig = m.plot(forecast)\n",
    "    fig.suptitle(f\"changepoint = {changepoint_priors[idx]}\")"
   ]
  },
  {
   "cell_type": "markdown",
   "id": "e8573876",
   "metadata": {},
   "source": [
    "The smallest `changepoint_prior_scale` value in the first graph leads to an underfitting of trend changes. The largest `changepoint_prior_scale` in the third graph may result in overfitting. Consequently, the second graph seems to be the optimal choice. This implies that the second model is the most suitable."
   ]
  },
  {
   "cell_type": "markdown",
   "id": "b930b565-7937-495b-9210-e7c4279b5830",
   "metadata": {},
   "source": [
    "### Visualize trends and seasonality with Prophet\n",
    "\n",
    "Prophet can also easily visualize the underlying trends and seasonalities. Visualizations of the second model are shown below."
   ]
  },
  {
   "cell_type": "code",
   "execution_count": null,
   "id": "e3d17804-fc5a-43e4-b4cb-dfc846bd82c0",
   "metadata": {},
   "outputs": [],
   "source": [
    "BEST_MODEL_INDEX = 1  # Set the best model index according to the previous results\n",
    "fig2 = models[BEST_MODEL_INDEX].plot_components(forecast)"
   ]
  },
  {
   "attachments": {
    "image.png": {
     "image/png": "[encoded data removed]"
    }
   },
   "cell_type": "markdown",
   "id": "2aa9bbb5",
   "metadata": {},
   "source": [
    "![image.png](attachment:image.png)"
   ]
  },
  {
   "cell_type": "markdown",
   "id": "7cc31a8d-8b22-469d-9a3f-464e759975d1",
   "metadata": {
    "nteract": {
     "transient": {
      "deleting": false
     }
    }
   },
   "source": [
    "In these graphs, the light blue shading reflects the uncertainty. The top graph shows a strong, long-period oscillating trend. Over a few years, the sales volumes rise and fall. The lower graph shows that sales tend to peak in February and September, reaching their maximum values for the year in those momths. Shortly after those months, in March and October, they fall to the year's minimum values.\n",
    "\n",
    "Evaluate the performance of the models using various metrics, for example:\n",
    "\n",
    "- mean squared error (MSE)\n",
    "- root mean squared error (RMSE)\n",
    "- mean absolute error (MAE)\n",
    "- mean absolute percent error (MAPE)\n",
    "- median absolute percent error (MDAPE)\n",
    "- symmetric mean absolute percentage error (SMAPE)\n",
    "\n",
    "Evaluate the coverage using the `yhat_lower` and `yhat_upper` estimates. Note the varying horizons where you predict one year in the future, twelve times."
   ]
  },
  {
   "cell_type": "code",
   "execution_count": null,
   "id": "7935a23c-e11b-4078-9b5d-7a891d8e970d",
   "metadata": {
    "jupyter": {
     "outputs_hidden": true
    }
   },
   "outputs": [],
   "source": [
    "display(df_metrics[BEST_MODEL_INDEX])"
   ]
  },
  {
   "cell_type": "markdown",
   "id": "55e74aab-0afc-49a2-901f-2590cbfb8cb6",
   "metadata": {
    "nteract": {
     "transient": {
      "deleting": false
     }
    }
   },
   "source": [
    "With the MAPE metric, for this forecasting model, predictions that extend one month into the future typically involve errors of roughly 8%. However, for predictions one year into the future, the error increases to roughly 10%."
   ]
  },
  {
   "cell_type": "markdown",
   "id": "5b9cf3cb-aa42-4e75-b132-807fc6b4a618",
   "metadata": {},
   "source": [
    "## Step 5: Score the model and save prediction results"
   ]
  },
  {
   "cell_type": "markdown",
   "id": "40aeb257-4e4a-4ed2-8434-68bf36e1d2fa",
   "metadata": {
    "nteract": {
     "transient": {
      "deleting": false
     }
    }
   },
   "source": [
    "Now score the model, and save the prediction results.\n"
   ]
  },
  {
   "cell_type": "markdown",
   "id": "9a84cb9d-a5a6-4938-955e-49b440966331",
   "metadata": {},
   "source": [
    "#### Make predictions with Predict Transformer\n",
    "\n",
    "Now, you can load the model and use it to make predictions. Users can operationalize machine learning models with **PREDICT**, a scalable Microsoft Fabric function that supports batch scoring in any compute engine. Learn more about ```PREDICT```, and how to use it within Microsoft Fabric, at [this resource](https://aka.ms/fabric-predict)."
   ]
  },
  {
   "cell_type": "code",
   "execution_count": null,
   "id": "2a6eff53-aedd-4628-bfe7-e1dbcc8517b4",
   "metadata": {
    "jupyter": {
     "outputs_hidden": true,
     "source_hidden": false
    },
    "nteract": {
     "transient": {
      "deleting": false
     }
    }
   },
   "outputs": [],
   "source": [
    "from synapse.ml.predict import MLFlowTransformer\n",
    "\n",
    "spark.conf.set(\"spark.synapse.ml.predict.enabled\", \"true\")\n",
    "\n",
    "model = MLFlowTransformer(\n",
    "    inputCols=future.columns.values,\n",
    "    outputCol=\"prediction\",\n",
    "    modelName=f\"{EXPERIMENT_NAME}-prophet\",\n",
    "    modelVersion=BEST_MODEL_INDEX,\n",
    ")\n",
    "\n",
    "test_spark = spark.createDataFrame(data=future, schema=future.columns.to_list())\n",
    "\n",
    "batch_predictions = model.transform(test_spark)\n",
    "\n",
    "display(batch_predictions)"
   ]
  },
  {
   "cell_type": "code",
   "execution_count": null,
   "id": "db538dcd-76aa-4942-8f36-d439a4318ec2",
   "metadata": {
    "jupyter": {
     "outputs_hidden": false,
     "source_hidden": false
    },
    "nteract": {
     "transient": {
      "deleting": false
     }
    }
   },
   "outputs": [],
   "source": [
    "# Code for saving predictions into lakehouse\n",
    "batch_predictions.write.format(\"delta\").mode(\"overwrite\").save(\n",
    "    f\"{DATA_FOLDER}/predictions/batch_predictions\"\n",
    ")"
   ]
  },
  {
   "cell_type": "code",
   "execution_count": null,
   "id": "75df3b75-0f44-4693-b85a-c5a94faa7c9a",
   "metadata": {
    "jupyter": {
     "outputs_hidden": false,
     "source_hidden": false
    },
    "nteract": {
     "transient": {
      "deleting": false
     }
    }
   },
   "outputs": [],
   "source": [
    "# Determine the entire runtime\n",
    "print(f\"Full run cost {int(time.time() - ts)} seconds.\")"
   ]
  }
 ],
 "metadata": {
  "kernel_info": {
   "name": "synapse_pyspark"
  },
  "kernelspec": {
   "display_name": "Synapse PySpark",
   "name": "synapse_pyspark"
  },
  "language_info": {
   "name": "python"
  },
  "notebook_environment": {},
  "nteract": {
   "version": "nteract-front-end@1.0.0"
  },
  "save_output": true,
  "spark_compute": {
   "compute_id": "/trident/default",
   "session_options": {
    "conf": {},
    "enableDebugMode": false
   }
  }
 },
 "nbformat": 4,
 "nbformat_minor": 5
}
